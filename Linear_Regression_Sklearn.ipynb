Open In Colab
import math
import pandas as pd
import numpy as np
import matplotlib.pyplot as plt
from sklearn.model_selection import train_test_split
from sklearn.linear_model import LinearRegression
from sklearn.metrics import mean_squared_error, r2_score, accuracy_score
# intialise data of lists. 
data = {'Hours':[2.5,5.1,3.2,8.5,3.5,1.5,9.2,5.5,8.3,2.7,7.7,5.9,4.5,3.3,1.1,8.9,2.5,1.9,6.1,7.4,2.7,4.8,3.8,6.9,7.8], 
        'Scores':[21,47,27,75,30,20,88,60,81,25,85,62,41,42,17,95,30,24,67,69,30,54,35,76,86]} 
  
# Create DataFrame 
student_scores = pd.DataFrame(data) 
  
# Print the output. 
student_scores
Hours	Scores
0	2.5	21
1	5.1	47
2	3.2	27
3	8.5	75
4	3.5	30
5	1.5	20
6	9.2	88
7	5.5	60
8	8.3	81
9	2.7	25
10	7.7	85
11	5.9	62
12	4.5	41
13	3.3	42
14	1.1	17
15	8.9	95
16	2.5	30
17	1.9	24
18	6.1	67
19	7.4	69
20	2.7	30
21	4.8	54
22	3.8	35
23	6.9	76
24	7.8	86
X = student_scores.iloc[ : ,   : 1 ].values
Y = student_scores.iloc[ : , 1].values
print(X)
print(Y)
[[2.5]
 [5.1]
 [3.2]
 [8.5]
 [3.5]
 [1.5]
 [9.2]
 [5.5]
 [8.3]
 [2.7]
 [7.7]
 [5.9]
 [4.5]
 [3.3]
 [1.1]
 [8.9]
 [2.5]
 [1.9]
 [6.1]
 [7.4]
 [2.7]
 [4.8]
 [3.8]
 [6.9]
 [7.8]]
[21 47 27 75 30 20 88 60 81 25 85 62 41 42 17 95 30 24 67 69 30 54 35 76
 86]
X_train, X_test, Y_train, Y_test = train_test_split( X, Y, test_size = 1/8, random_state = 1)
print(X_train)
[[4.8]
 [7.7]
 [6.1]
 [7.4]
 [3.5]
 [3.2]
 [2.7]
 [9.2]
 [5.5]
 [3.8]
 [5.1]
 [2.5]
 [2.5]
 [8.9]
 [7.8]
 [6.9]
 [2.7]
 [8.3]
 [4.5]
 [5.9]
 [1.5]]
print(X_test)
[[1.1]
 [3.3]
 [1.9]
 [8.5]]
print(Y_train)
[54 85 67 69 30 27 30 88 60 35 47 30 21 95 86 76 25 81 41 62 20]
print(Y_test)
[17 42 24 75]
plt.scatter(X,Y)
plt.xlabel('x')
plt.ylabel('y')
plt.show()

regressor = LinearRegression()
regressor = regressor.fit(X_train, Y_train)
Y_pred = regressor.predict(X_test)
print(Y_pred)
[10.31544821 33.2814241  18.66671217 87.56463984]
plt.scatter(X_train , Y_train, color = 'blue')
plt.plot(X_train , regressor.predict(X_train), color ='red')
[<matplotlib.lines.Line2D at 0x7f0fe725f1d0>]

plt.scatter(X_test , Y_test, color = 'blue')
plt.plot(X_test , regressor.predict(X_test), color ='green')
[<matplotlib.lines.Line2D at 0x7f0fe71d4950>]

print(mean_squared_error(Y_test, Y_pred))
print(r2_score(Y_test, Y_pred)*100)
76.7527329351402
84.74858759361348
 
